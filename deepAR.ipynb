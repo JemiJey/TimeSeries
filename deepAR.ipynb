{
 "cells": [
  {
   "cell_type": "code",
   "execution_count": 1,
   "metadata": {},
   "outputs": [
    {
     "name": "stdout",
     "output_type": "stream",
     "text": [
      "--2019-10-17 11:07:28--  http://berkeleyearth.lbl.gov/auto/Global/Complete_TAVG_daily.txt\n",
      "Resolving berkeleyearth.lbl.gov (berkeleyearth.lbl.gov)... 128.3.29.26\n",
      "Connecting to berkeleyearth.lbl.gov (berkeleyearth.lbl.gov)|128.3.29.26|:80... connected.\n",
      "HTTP request sent, awaiting response... 200 OK\n",
      "Length: 2691540 (2.6M) [text/plain]\n",
      "Saving to: ‘Complete_TAVG_daily.txt.1’\n",
      "\n",
      "Complete_TAVG_daily 100%[===================>]   2.57M   290KB/s    in 13s     \n",
      "\n",
      "2019-10-17 11:07:43 (201 KB/s) - ‘Complete_TAVG_daily.txt.1’ saved [2691540/2691540]\n",
      "\n"
     ]
    }
   ],
   "source": [
    "!wget  http://berkeleyearth.lbl.gov/auto/Global/Complete_TAVG_daily.txt"
   ]
  },
  {
   "cell_type": "code",
   "execution_count": 2,
   "metadata": {},
   "outputs": [],
   "source": [
    "!grep -v -e '^%|^$\\|^\\ *$' Complete_TAVG_daily.txt > temps.txt"
   ]
  },
  {
   "cell_type": "code",
   "execution_count": 3,
   "metadata": {},
   "outputs": [],
   "source": [
    "minYear = 1880\n",
    "maxYear = 2014\n",
    "avg_tmp = 8.68\n",
    "\n",
    "prediction_length = 30"
   ]
  },
  {
   "cell_type": "code",
   "execution_count": 4,
   "metadata": {},
   "outputs": [],
   "source": [
    "import csv, boto3, json, sagemaker\n",
    "import numpy as np\n",
    "import pandas as pd"
   ]
  },
  {
   "cell_type": "code",
   "execution_count": 8,
   "metadata": {},
   "outputs": [
    {
     "ename": "ValueError",
     "evalue": "could not convert string to float: 'summary'",
     "output_type": "error",
     "traceback": [
      "\u001b[0;31m---------------------------------------------------------------------------\u001b[0m",
      "\u001b[0;31mValueError\u001b[0m                                Traceback (most recent call last)",
      "\u001b[0;32m<ipython-input-8-c0cd99268461>\u001b[0m in \u001b[0;36m<module>\u001b[0;34m\u001b[0m\n\u001b[1;32m     13\u001b[0m \u001b[0;34m\u001b[0m\u001b[0m\n\u001b[1;32m     14\u001b[0m     \u001b[0myear\u001b[0m \u001b[0;34m=\u001b[0m \u001b[0mrow\u001b[0m\u001b[0;34m[\u001b[0m\u001b[0;36m1\u001b[0m\u001b[0;34m]\u001b[0m\u001b[0;34m\u001b[0m\u001b[0;34m\u001b[0m\u001b[0m\n\u001b[0;32m---> 15\u001b[0;31m     \u001b[0mtemp\u001b[0m \u001b[0;34m=\u001b[0m \u001b[0mfloat\u001b[0m\u001b[0;34m(\u001b[0m\u001b[0mrow\u001b[0m\u001b[0;34m[\u001b[0m\u001b[0;36m5\u001b[0m\u001b[0;34m]\u001b[0m\u001b[0;34m)\u001b[0m\u001b[0;34m+\u001b[0m\u001b[0mavg_temp\u001b[0m\u001b[0;34m\u001b[0m\u001b[0;34m\u001b[0m\u001b[0m\n\u001b[0m\u001b[1;32m     16\u001b[0m \u001b[0;34m\u001b[0m\u001b[0m\n\u001b[1;32m     17\u001b[0m     \u001b[0mx\u001b[0m\u001b[0;34m.\u001b[0m\u001b[0mappend\u001b[0m\u001b[0;34m(\u001b[0m\u001b[0mcount\u001b[0m\u001b[0;34m)\u001b[0m\u001b[0;34m\u001b[0m\u001b[0;34m\u001b[0m\u001b[0m\n",
      "\u001b[0;31mValueError\u001b[0m: could not convert string to float: 'summary'"
     ]
    }
   ],
   "source": [
    "f = open('temps.txt', 'r')\n",
    "data = csv.reader(f, delimiter=' ')\n",
    "\n",
    "dataset = {}\n",
    "x = []\n",
    "y = []\n",
    "count = 1\n",
    "prevYear = 0\n",
    "\n",
    "\n",
    "for row in data:\n",
    "#     row = filter(None, row)\n",
    "    \n",
    "    year = row[1]\n",
    "    temp = float(row[5])+avg_temp\n",
    "    \n",
    "    x.append(count)\n",
    "    y.append(float(temp))\n",
    "    count = count + 1\n",
    "    \n",
    "    if (year != prevYear):\n",
    "        dataset[year] = []\n",
    "        prevYear = year\n",
    "    dataset[year].append(float(temp))\n",
    "    \n",
    "    nb_samples_per_year = list(map(lambda x: len(x), (dataset[str(year)] for year in range(minYear, maxYear+1))))\n",
    "    nb_samples_per_year = np.unique(nb_samples_per_year).tolist()\n",
    "    "
   ]
  },
  {
   "cell_type": "code",
   "execution_count": null,
   "metadata": {},
   "outputs": [],
   "source": [
    "nb_samples_per_year = list(map(lambda x: len(x), (dataset[str(year)] for year in range(minYear, maxYear+1))))"
   ]
  },
  {
   "cell_type": "code",
   "execution_count": null,
   "metadata": {},
   "outputs": [],
   "source": [
    "datse"
   ]
  }
 ],
 "metadata": {
  "kernelspec": {
   "display_name": "Python 3",
   "language": "python",
   "name": "python3"
  },
  "language_info": {
   "codemirror_mode": {
    "name": "ipython",
    "version": 3
   },
   "file_extension": ".py",
   "mimetype": "text/x-python",
   "name": "python",
   "nbconvert_exporter": "python",
   "pygments_lexer": "ipython3",
   "version": "3.6.8"
  }
 },
 "nbformat": 4,
 "nbformat_minor": 4
}
